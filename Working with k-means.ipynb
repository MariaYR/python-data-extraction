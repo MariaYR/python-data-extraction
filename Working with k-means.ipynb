{
 "cells": [
  {
   "cell_type": "markdown",
   "metadata": {},
   "source": [
    "Let's use a *toy example* from the Eurobarometer to study the left-right position of citizen based on various background items.\n"
   ]
  },
  {
   "cell_type": "code",
   "execution_count": 23,
   "metadata": {
    "collapsed": false
   },
   "outputs": [
    {
     "name": "stdout",
     "output_type": "stream",
     "text": [
      "Have 27672 data entries.\n"
     ]
    }
   ],
   "source": [
    "import csv\n",
    "\n",
    "data = csv.DictReader( open('eurobaro.csv') )\n",
    "\n",
    "## we need something called labels (what we try to explain) and\n",
    "## something we call the features (with what we try to explain)\n",
    "\n",
    "features = []\n",
    "\n",
    "for row in data:\n",
    "    \n",
    "    f = []\n",
    "    \n",
    "    leftright = row['d1'] ## this is TEXT\n",
    "    leftright = leftright.replace('Box', '').replace('- left', '').replace('- right', '').replace('DK', '-1').replace('Refusal', '-1')\n",
    "    leftright = leftright.strip()\n",
    "    leftright = int( leftright )\n",
    "    \n",
    "    sex = int( row['d10'] == 'Woman' ) ## man/woman\n",
    "    age = int( row['d11'] )\n",
    "        \n",
    "    area = 0\n",
    "        \n",
    "    if row['d25'] == 'Rural area or village':\n",
    "        area = 1\n",
    "            \n",
    "    if row['d25'] == 'Small or middle sized town':\n",
    "        area = 2\n",
    "            \n",
    "    if row['d25'] == 'Large town':\n",
    "        area = 3\n",
    "        \n",
    "    bill_paying = 0\n",
    "        \n",
    "    if row['d60'] == 'Most of the time': ## todo: add rest\n",
    "        bill_paying = 1\n",
    "            \n",
    "    _temp = {\n",
    "        'Very satisfied' : 1,\n",
    "        'Fairly satisfied' : 2,\n",
    "        'Not very satisfied' : 3,\n",
    "        'Not at all satisfied' : 4,\n",
    "        'DK' : 2.5 ## mean!\n",
    "    }\n",
    "        \n",
    "    live_satisfaction = _temp[ row['d70'] ]\n",
    "        \n",
    "    features.append( [ leftright, sex, age, area, bill_paying, live_satisfaction ] )\n",
    "        \n",
    "print 'Have', len( features ), 'data entries.'    "
   ]
  },
  {
   "cell_type": "code",
   "execution_count": 28,
   "metadata": {
    "collapsed": false
   },
   "outputs": [
    {
     "name": "stdout",
     "output_type": "stream",
     "text": [
      "-551294.770595\n",
      "Cluster n Left-right Sex Age Area Pays bills Life satisfaction\n",
      "Cluster 1 3.83\t0.59\t81.54\t0.98\t0.07\t1.93\n",
      "Cluster 2 3.77\t0.56\t31.08\t1.22\t0.11\t1.92\n",
      "Cluster 3 3.79\t0.54\t56.64\t1.09\t0.12\t2.08\n",
      "Cluster 4 3.09\t0.5\t21.2\t1.21\t0.1\t1.84\n",
      "Cluster 5 4.0\t0.56\t48.45\t1.09\t0.12\t2.04\n",
      "Cluster 6 3.88\t0.54\t64.61\t1.02\t0.08\t1.96\n",
      "Cluster 7 3.95\t0.58\t39.99\t1.11\t0.11\t1.95\n",
      "Cluster 8 4.07\t0.54\t72.11\t1.01\t0.08\t1.93\n"
     ]
    }
   ],
   "source": [
    "import numpy\n",
    "from sklearn import cluster, preprocessing\n",
    "\n",
    "model = cluster.KMeans()\n",
    "\n",
    "f = numpy.array( features )\n",
    "## f = preprocessing.scale( f ) ## scale the data to -1 to 1, so that the mean is 0\n",
    "\n",
    "model.fit( f )\n",
    "\n",
    "print model.score( f )\n",
    "\n",
    "results = model.cluster_centers_\n",
    "\n",
    "print 'Cluster n Left-right Sex Age Area Pays bills Life satisfaction'\n",
    "\n",
    "for i in range(8):\n",
    "    \n",
    "    r = map( lambda x: round( x, 2 ), results[i] )\n",
    "    r = map( str, r )\n",
    "    \n",
    "    print 'Cluster', i+1,\n",
    "    print '\\t'.join( r )"
   ]
  },
  {
   "cell_type": "code",
   "execution_count": 34,
   "metadata": {
    "collapsed": false
   },
   "outputs": [
    {
     "name": "stdout",
     "output_type": "stream",
     "text": [
      "-2844974.58712\n",
      "Cluster n Left-right Sex Age Area Pays bills Life satisfaction\n",
      "Cluster 1 3.9\t0.55\t65.07\t1.04\t0.09\t1.99\n",
      "Cluster 2 3.7\t0.55\t34.34\t1.16\t0.11\t1.93\n",
      "-1582682.79007\n",
      "Cluster n Left-right Sex Age Area Pays bills Life satisfaction\n",
      "Cluster 1 3.91\t0.55\t50.15\t1.09\t0.11\t2.04\n",
      "Cluster 2 3.55\t0.54\t28.76\t1.2\t0.11\t1.9\n",
      "Cluster 3 3.93\t0.55\t70.62\t1.01\t0.08\t1.94\n",
      "-1079988.08729\n",
      "Cluster n Left-right Sex Age Area Pays bills Life satisfaction\n",
      "Cluster 1 3.84\t0.54\t59.8\t1.06\t0.1\t2.02\n",
      "Cluster 2 3.44\t0.53\t25.79\t1.21\t0.11\t1.88\n",
      "Cluster 3 3.99\t0.56\t74.87\t1.0\t0.08\t1.93\n",
      "Cluster 4 3.94\t0.57\t43.02\t1.11\t0.11\t1.99\n",
      "-827918.105539\n",
      "Cluster n Left-right Sex Age Area Pays bills Life satisfaction\n",
      "Cluster 1 3.99\t0.57\t77.1\t1.0\t0.08\t1.93\n",
      "Cluster 2 3.89\t0.57\t37.28\t1.14\t0.11\t1.94\n",
      "Cluster 3 3.9\t0.56\t50.52\t1.09\t0.12\t2.05\n",
      "Cluster 4 3.33\t0.52\t23.6\t1.23\t0.11\t1.87\n",
      "Cluster 5 3.87\t0.54\t64.04\t1.04\t0.09\t1.98\n",
      "-690767.235763\n",
      "Cluster n Left-right Sex Age Area Pays bills Life satisfaction\n",
      "Cluster 1 3.99\t0.54\t68.52\t1.02\t0.08\t1.94\n",
      "Cluster 2 3.83\t0.57\t35.75\t1.16\t0.11\t1.93\n",
      "Cluster 3 3.99\t0.56\t47.0\t1.1\t0.12\t2.02\n",
      "Cluster 4 3.81\t0.54\t58.13\t1.07\t0.11\t2.05\n",
      "Cluster 5 3.32\t0.51\t22.99\t1.23\t0.11\t1.87\n",
      "Cluster 6 3.87\t0.58\t80.0\t0.99\t0.07\t1.93\n",
      "-609074.646421\n",
      "Cluster n Left-right Sex Age Area Pays bills Life satisfaction\n",
      "Cluster 1 4.04\t0.54\t70.04\t1.01\t0.07\t1.93\n",
      "Cluster 2 3.97\t0.58\t43.0\t1.11\t0.11\t1.98\n",
      "Cluster 3 3.24\t0.5\t21.89\t1.21\t0.1\t1.85\n",
      "Cluster 4 3.88\t0.55\t51.99\t1.07\t0.11\t2.07\n",
      "Cluster 5 3.83\t0.59\t80.81\t1.0\t0.07\t1.92\n",
      "Cluster 6 3.77\t0.57\t33.3\t1.19\t0.12\t1.93\n",
      "Cluster 7 3.84\t0.54\t61.15\t1.05\t0.1\t2.01\n",
      "-550374.7172\n",
      "Cluster n Left-right Sex Age Area Pays bills Life satisfaction\n",
      "Cluster 1 2.94\t0.49\t20.39\t1.2\t0.1\t1.83\n",
      "Cluster 2 3.88\t0.54\t55.59\t1.08\t0.11\t2.08\n",
      "Cluster 3 3.83\t0.59\t81.54\t0.98\t0.07\t1.93\n",
      "Cluster 4 3.92\t0.58\t38.11\t1.14\t0.11\t1.95\n",
      "Cluster 5 3.95\t0.56\t47.03\t1.09\t0.12\t2.02\n",
      "Cluster 6 3.81\t0.55\t63.57\t1.04\t0.09\t1.97\n",
      "Cluster 7 4.07\t0.54\t71.5\t1.01\t0.08\t1.93\n",
      "Cluster 8 3.81\t0.55\t29.26\t1.23\t0.12\t1.92\n",
      "-512003.137078\n",
      "Cluster n Left-right Sex Age Area Pays bills Life satisfaction\n",
      "Cluster 1 3.85\t0.57\t36.66\t1.16\t0.11\t1.93\n",
      "Cluster 2 3.77\t0.55\t66.99\t1.02\t0.08\t1.94\n",
      "Cluster 3 3.78\t0.55\t28.35\t1.21\t0.12\t1.92\n",
      "Cluster 4 3.86\t0.55\t52.54\t1.08\t0.11\t2.06\n",
      "Cluster 5 4.44\t0.54\t74.05\t1.0\t0.08\t1.93\n",
      "Cluster 6 3.85\t0.53\t60.03\t1.06\t0.1\t2.02\n",
      "Cluster 7 3.56\t0.61\t82.81\t0.99\t0.07\t1.93\n",
      "Cluster 8 3.99\t0.58\t44.56\t1.11\t0.12\t2.01\n",
      "Cluster 9 2.89\t0.49\t19.91\t1.21\t0.1\t1.83\n"
     ]
    }
   ],
   "source": [
    "import numpy\n",
    "from sklearn import cluster, preprocessing\n",
    "\n",
    "for k in range(2, 10):\n",
    "    model = cluster.KMeans( k )\n",
    "\n",
    "    f = numpy.array( features )\n",
    "    ## f = preprocessing.scale( f ) ## scale the data to -1 to 1, so that the mean is 0\n",
    "\n",
    "    model.fit( f )\n",
    "\n",
    "    print model.score( f )\n",
    "\n",
    "    results = model.cluster_centers_\n",
    "\n",
    "    print 'Cluster n Left-right Sex Age Area Pays bills Life satisfaction'\n",
    "\n",
    "    for i in range( k ):\n",
    "        r = map( lambda x: round( x, 2 ), results[i] )\n",
    "        r = map( str, r )\n",
    "\n",
    "        print 'Cluster', i+1,\n",
    "        print '\\t'.join( r )"
   ]
  },
  {
   "cell_type": "code",
   "execution_count": null,
   "metadata": {
    "collapsed": true
   },
   "outputs": [],
   "source": []
  },
  {
   "cell_type": "code",
   "execution_count": null,
   "metadata": {
    "collapsed": true
   },
   "outputs": [],
   "source": []
  }
 ],
 "metadata": {
  "kernelspec": {
   "display_name": "Python 2",
   "language": "python",
   "name": "python2"
  },
  "language_info": {
   "codemirror_mode": {
    "name": "ipython",
    "version": 2
   },
   "file_extension": ".py",
   "mimetype": "text/x-python",
   "name": "python",
   "nbconvert_exporter": "python",
   "pygments_lexer": "ipython2",
   "version": "2.7.9"
  }
 },
 "nbformat": 4,
 "nbformat_minor": 0
}
