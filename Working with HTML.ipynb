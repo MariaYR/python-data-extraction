{
 "cells": [
  {
   "cell_type": "code",
   "execution_count": 11,
   "metadata": {
    "collapsed": true
   },
   "outputs": [],
   "source": [
    "strings =\"<p id='first'>Kaikki täällä, jotka sanovat että älkää valittako, ei tarvitse olla laiha, ovat sinänsä oikeassa minusta, että lihavuus/pyöreys vaikuttaa todella paljon luonteeseen.</p><p>Mutta kaikille kirjoittajille, minun mielipiteeni on, että riittää jos on sopiva. (Tämä vaikuttaa nyt tietenkin siltä, ets olisin joku helvetin päällepäsmäri, joka käskee miten elää, mutta eikö se olisikin aika ihaanteellista, jos kaikki olisivat sopivia?)</p><p>Vaikka tällaisia juttuja höpötänkin, en ole itseeni tyytyväinen. Olen n. alle 160cm ja painan 48kg ja olen 12-vuotias.. Pidän itseäni aivan liian lihavana, mutta ei se mikään ongelma ole.</p><p>Ei pitäisi valittaa!! =)</p>\""
   ]
  },
  {
   "cell_type": "code",
   "execution_count": 12,
   "metadata": {
    "collapsed": false
   },
   "outputs": [],
   "source": [
    "import bs4"
   ]
  },
  {
   "cell_type": "code",
   "execution_count": 13,
   "metadata": {
    "collapsed": false
   },
   "outputs": [],
   "source": [
    "soup = bs4.BeautifulSoup( strings , 'html.parser')"
   ]
  },
  {
   "cell_type": "code",
   "execution_count": 9,
   "metadata": {
    "collapsed": false
   },
   "outputs": [
    {
     "name": "stdout",
     "output_type": "stream",
     "text": [
      "<p>Kaikki täällä, jotka sanovat että älkää valittako, ei tarvitse olla laiha, ovat sinänsä oikeassa minusta, että lihavuus/pyöreys vaikuttaa todella paljon luonteeseen.</p>\n",
      "<p>Mutta kaikille kirjoittajille, minun mielipiteeni on, että riittää jos on sopiva. (Tämä vaikuttaa nyt tietenkin siltä, ets olisin joku helvetin päällepäsmäri, joka käskee miten elää, mutta eikö se olisikin aika ihaanteellista, jos kaikki olisivat sopivia?)</p>\n",
      "<p>Vaikka tällaisia juttuja höpötänkin, en ole itseeni tyytyväinen. Olen n. alle 160cm ja painan 48kg ja olen 12-vuotias.. Pidän itseäni aivan liian lihavana, mutta ei se mikään ongelma ole.</p>\n",
      "<p>Ei pitäisi valittaa!! =)</p>\n",
      "----\n",
      "Kaikki täällä, jotka sanovat että älkää valittako, ei tarvitse olla laiha, ovat sinänsä oikeassa minusta, että lihavuus/pyöreys vaikuttaa todella paljon luonteeseen.\n",
      "Mutta kaikille kirjoittajille, minun mielipiteeni on, että riittää jos on sopiva. (Tämä vaikuttaa nyt tietenkin siltä, ets olisin joku helvetin päällepäsmäri, joka käskee miten elää, mutta eikö se olisikin aika ihaanteellista, jos kaikki olisivat sopivia?)\n",
      "Vaikka tällaisia juttuja höpötänkin, en ole itseeni tyytyväinen. Olen n. alle 160cm ja painan 48kg ja olen 12-vuotias.. Pidän itseäni aivan liian lihavana, mutta ei se mikään ongelma ole.\n",
      "Ei pitäisi valittaa!! =)\n"
     ]
    }
   ],
   "source": [
    "for s in soup.find_all('p'):\n",
    "    print s\n",
    " \n",
    "print '----'\n",
    "\n",
    "for s in soup.find_all('p'):   \n",
    "    print s.get_text()"
   ]
  },
  {
   "cell_type": "code",
   "execution_count": 14,
   "metadata": {
    "collapsed": false
   },
   "outputs": [
    {
     "name": "stdout",
     "output_type": "stream",
     "text": [
      "<p id=\"first\">Kaikki täällä, jotka sanovat että älkää valittako, ei tarvitse olla laiha, ovat sinänsä oikeassa minusta, että lihavuus/pyöreys vaikuttaa todella paljon luonteeseen.</p>\n"
     ]
    }
   ],
   "source": [
    "print soup.find( id = 'first' )"
   ]
  },
  {
   "cell_type": "code",
   "execution_count": null,
   "metadata": {
    "collapsed": true
   },
   "outputs": [],
   "source": []
  }
 ],
 "metadata": {
  "kernelspec": {
   "display_name": "Python 2",
   "language": "python",
   "name": "python2"
  },
  "language_info": {
   "codemirror_mode": {
    "name": "ipython",
    "version": 2
   },
   "file_extension": ".py",
   "mimetype": "text/x-python",
   "name": "python",
   "nbconvert_exporter": "python",
   "pygments_lexer": "ipython2",
   "version": "2.7.9"
  }
 },
 "nbformat": 4,
 "nbformat_minor": 0
}
