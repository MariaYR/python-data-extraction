{
 "cells": [
  {
   "cell_type": "markdown",
   "metadata": {},
   "source": [
    "## Short summary to natural language processing\n",
    "\n",
    "Here are two examples of the most common task of natural language processing: getting the basic form of a word for further analysis. This process is called _stemming_ or _lemmatizing_ depending on the approach used. Furthermore, we have conducted _tagging_ of the words on the latter example. Tags identify different (assumed) meanings words have in the sentence and can be used e.g. in lemmatizing process."
   ]
  },
  {
   "cell_type": "code",
   "execution_count": 8,
   "metadata": {
    "collapsed": false,
    "scrolled": true
   },
   "outputs": [
    {
     "name": "stdout",
     "output_type": "stream",
     "text": [
      "Does Does doe\n",
      "a a a\n",
      "cat cat cat\n",
      "have have hav\n",
      "for for for\n",
      "legs leg leg\n",
      "and and and\n",
      "two two two\n",
      "ears ear ear\n",
      "? ? ?\n",
      "Yes Yes ye\n",
      ", , ,\n",
      "indeed indeed indee\n",
      "- - -\n",
      "a a a\n",
      "cat cat cat\n",
      "has ha has\n",
      "legs leg leg\n",
      "and and and\n",
      "ears ear ear\n",
      ". . .\n"
     ]
    }
   ],
   "source": [
    "import nltk\n",
    "import nltk.data\n",
    "\n",
    "lemma = nltk.stem.wordnet.WordNetLemmatizer()\n",
    "stemma = nltk.stem.lancaster.LancasterStemmer()\n",
    "\n",
    "words = nltk.word_tokenize(\"Does a cat have for legs and two ears? Yes, indeed - a cat has legs and ears.\")\n",
    "for word in words:\n",
    "    print word, lemma.lemmatize( word ), stemma.stem( word )"
   ]
  },
  {
   "cell_type": "code",
   "execution_count": 15,
   "metadata": {
    "collapsed": false
   },
   "outputs": [
    {
     "name": "stdout",
     "output_type": "stream",
     "text": [
      "Does Does Does doe\n",
      "a a a a\n",
      "cat cat cat cat\n",
      "have have have hav\n",
      "for for for for\n",
      "legs leg leg leg\n",
      "and and and and\n",
      "two two two two\n",
      "ears ear ear ear\n",
      "? ? ? ?\n",
      "Yes Yes Yes ye\n",
      ", , , ,\n",
      "indeed indeed indeed indee\n",
      "- - - -\n",
      "a a a a\n",
      "cat cat cat cat\n",
      "has have ha has\n",
      "legs legs leg leg\n",
      "and and and and\n",
      "ears ear ear ear\n",
      ". . . .\n"
     ]
    }
   ],
   "source": [
    "import nltk\n",
    "import nltk.data\n",
    "\n",
    "lemma = nltk.stem.wordnet.WordNetLemmatizer()\n",
    "stemma = nltk.stem.lancaster.LancasterStemmer()\n",
    "\n",
    "from nltk.corpus import wordnet\n",
    "\n",
    "def get_wordnet_pos(treebank_tag):\n",
    "\n",
    "    if treebank_tag.startswith('J'):\n",
    "        return wordnet.ADJ\n",
    "    elif treebank_tag.startswith('V'):\n",
    "        return wordnet.VERB\n",
    "    elif treebank_tag.startswith('N'):\n",
    "        return wordnet.NOUN\n",
    "    elif treebank_tag.startswith('R'):\n",
    "        return wordnet.ADV\n",
    "    \n",
    "    return wordnet.NOUN ## default to\n",
    "    \n",
    "words = nltk.word_tokenize(\"Does a cat have for legs and two ears? Yes, indeed - a cat has legs and ears.\")\n",
    "for tagged_word in nltk.pos_tag( words ):\n",
    "    word = tagged_word[0]\n",
    "    tag = tagged_word[1]\n",
    "    print word, lemma.lemmatize( word , get_wordnet_pos( tag ) ), lemma.lemmatize( word ), stemma.stem( word )"
   ]
  },
  {
   "cell_type": "code",
   "execution_count": null,
   "metadata": {
    "collapsed": true
   },
   "outputs": [],
   "source": []
  }
 ],
 "metadata": {
  "kernelspec": {
   "display_name": "Python 2",
   "language": "python",
   "name": "python2"
  },
  "language_info": {
   "codemirror_mode": {
    "name": "ipython",
    "version": 2
   },
   "file_extension": ".py",
   "mimetype": "text/x-python",
   "name": "python",
   "nbconvert_exporter": "python",
   "pygments_lexer": "ipython2",
   "version": "2.7.9"
  }
 },
 "nbformat": 4,
 "nbformat_minor": 0
}
