{
 "cells": [
  {
   "cell_type": "markdown",
   "metadata": {},
   "source": [
    "Let's use a *toy example* from the Eurobarometer to study the structure of relationships (_note: no causal relationships assumed with this_)."
   ]
  },
  {
   "cell_type": "code",
   "execution_count": null,
   "metadata": {
    "collapsed": false
   },
   "outputs": [],
   "source": [
    "import csv\n",
    "\n",
    "data = csv.DictReader( open('eurobaro.csv') )\n",
    "\n",
    "## we need to rewrite the data into format required by the library we use\n",
    "\n",
    "d = []\n",
    "\n",
    "for row in data:\n",
    "    \n",
    "    leftright = row['d1'] ## this is TEXT\n",
    "    leftright = leftright.replace('Box', '').replace('- left', '').replace('- right', '').replace('DK', '-1').replace('Refusal', '-1')\n",
    "    leftright = leftright.strip()\n",
    "    leftright = int( leftright )\n",
    "    \n",
    "    sex = row['d10'].lower() ## man/woman\n",
    "    age = int( row['d11'] )\n",
    "        \n",
    "    city_type = 'none'\n",
    "        \n",
    "    if row['d25'] == 'Rural area or village':\n",
    "        city_type = 'rural'\n",
    "            \n",
    "    if row['d25'] == 'Small or middle sized town':\n",
    "        city_type = 'town'\n",
    "            \n",
    "    if row['d25'] == 'Large town':\n",
    "        city_type = 'city'\n",
    "            \n",
    "    bill_paying = 'no'\n",
    "        \n",
    "    if row['d60'] == 'Most of the time':\n",
    "        bill_paying = 'yes'\n",
    "            \n",
    "    _temp = {\n",
    "       'Very satisfied' : 1,\n",
    "        'Fairly satisfied' : 2,\n",
    "        'Not very satisfied' : 4,\n",
    "        'Not at all satisfied' : 5,\n",
    "        'DK' : 3 ## mean!\n",
    "    }\n",
    "        \n",
    "    live_satisfaction = _temp[ row['d70'] ]\n",
    "    \n",
    "    if leftright > 0: ## filter no-responses\n",
    "        \n",
    "        d.append( [ leftright , sex , age, city_type, bill_paying, live_satisfaction ] ) \n",
    "        \n",
    "##\n",
    "\n",
    "variables = ['political,discrete(11)', 'sex,class(man,woman)',\n",
    "             'age,continuous', 'neigbourhood,class(none,rural,town,city)', 'pays_vills,class(no,yes)', 'satisfaction,discrete(5)']\n",
    "\n",
    "fout = open('bayes-example.tsv', 'w')\n",
    "fout.write( '\\t'.join(variables) + '\\n' )      \n",
    "for line in d:\n",
    "           fout.write('\\t'.join( map( str, line) ) + '\\n' )\n",
    "        \n",
    "print \"Done\""
   ]
  },
  {
   "cell_type": "code",
   "execution_count": 5,
   "metadata": {
    "collapsed": false
   },
   "outputs": [
    {
     "name": "stdout",
     "output_type": "stream",
     "text": [
      "<pebl.result.LearnerResult instance at 0x7f501d0dc248>\n",
      "Done\n"
     ]
    },
    {
     "ename": "NameError",
     "evalue": "global name 'dot_parser' is not defined",
     "output_type": "error",
     "traceback": [
      "\u001b[1;31m---------------------------------------------------------------------------\u001b[0m",
      "\u001b[1;31mNameError\u001b[0m                                 Traceback (most recent call last)",
      "\u001b[1;32m<ipython-input-5-bcf6adeac531>\u001b[0m in \u001b[0;36m<module>\u001b[1;34m()\u001b[0m\n\u001b[0;32m     24\u001b[0m \u001b[1;32mimport\u001b[0m \u001b[0mshutil\u001b[0m\u001b[1;33m\u001b[0m\u001b[0m\n\u001b[0;32m     25\u001b[0m \u001b[0mshutil\u001b[0m\u001b[1;33m.\u001b[0m\u001b[0mrmtree\u001b[0m\u001b[1;33m(\u001b[0m\u001b[1;34m'bayesian-network-example'\u001b[0m\u001b[1;33m)\u001b[0m\u001b[1;33m\u001b[0m\u001b[0m\n\u001b[1;32m---> 26\u001b[1;33m \u001b[0mresult1\u001b[0m\u001b[1;33m.\u001b[0m\u001b[0mtohtml\u001b[0m\u001b[1;33m(\u001b[0m\u001b[1;34m'bayesian-network-example'\u001b[0m\u001b[1;33m)\u001b[0m\u001b[1;33m\u001b[0m\u001b[0m\n\u001b[0m",
      "\u001b[1;32m/usr/local/lib/python2.7/dist-packages/pebl/result.pyc\u001b[0m in \u001b[0;36mtohtml\u001b[1;34m(self, outdir)\u001b[0m\n\u001b[0;32m    148\u001b[0m             HtmlFormatter().htmlreport(\n\u001b[0;32m    149\u001b[0m                 \u001b[0mself\u001b[0m\u001b[1;33m,\u001b[0m\u001b[1;33m\u001b[0m\u001b[0m\n\u001b[1;32m--> 150\u001b[1;33m                 \u001b[0moutdir\u001b[0m \u001b[1;32mor\u001b[0m \u001b[0mconfig\u001b[0m\u001b[1;33m.\u001b[0m\u001b[0mget\u001b[0m\u001b[1;33m(\u001b[0m\u001b[1;34m'result.outdir'\u001b[0m\u001b[1;33m)\u001b[0m\u001b[1;33m\u001b[0m\u001b[0m\n\u001b[0m\u001b[0;32m    151\u001b[0m             )\n\u001b[0;32m    152\u001b[0m         \u001b[1;32melse\u001b[0m\u001b[1;33m:\u001b[0m\u001b[1;33m\u001b[0m\u001b[0m\n",
      "\u001b[1;32m/usr/local/lib/python2.7/dist-packages/pebl/result.pyc\u001b[0m in \u001b[0;36mhtmlreport\u001b[1;34m(self, result_, outdir, numnetworks)\u001b[0m\n\u001b[0;32m    209\u001b[0m         \u001b[1;31m# create network images\u001b[0m\u001b[1;33m\u001b[0m\u001b[1;33m\u001b[0m\u001b[0m\n\u001b[0;32m    210\u001b[0m         \u001b[0mtop\u001b[0m \u001b[1;33m=\u001b[0m \u001b[0mpost\u001b[0m\u001b[1;33m[\u001b[0m\u001b[1;36m0\u001b[0m\u001b[1;33m]\u001b[0m\u001b[1;33m\u001b[0m\u001b[0m\n\u001b[1;32m--> 211\u001b[1;33m         \u001b[0mtop\u001b[0m\u001b[1;33m.\u001b[0m\u001b[0mlayout\u001b[0m\u001b[1;33m(\u001b[0m\u001b[1;33m)\u001b[0m\u001b[1;33m\u001b[0m\u001b[0m\n\u001b[0m\u001b[0;32m    212\u001b[0m         \u001b[1;32mfor\u001b[0m \u001b[0mi\u001b[0m\u001b[1;33m,\u001b[0m\u001b[0mnet\u001b[0m \u001b[1;32min\u001b[0m \u001b[0menumerate\u001b[0m\u001b[1;33m(\u001b[0m\u001b[0mpost\u001b[0m\u001b[1;33m[\u001b[0m\u001b[1;33m:\u001b[0m\u001b[0mnumnetworks\u001b[0m\u001b[1;33m]\u001b[0m\u001b[1;33m)\u001b[0m\u001b[1;33m:\u001b[0m\u001b[1;33m\u001b[0m\u001b[0m\n\u001b[0;32m    213\u001b[0m             self.network_image(\n",
      "\u001b[1;32m/usr/local/lib/python2.7/dist-packages/pebl/network.pyc\u001b[0m in \u001b[0;36mlayout\u001b[1;34m(self, width, height, dotpath)\u001b[0m\n\u001b[0;32m    285\u001b[0m             \u001b[1;32mraise\u001b[0m \u001b[0mException\u001b[0m\u001b[1;33m(\u001b[0m\u001b[1;34m\"Cannot find the dot program at %s.\"\u001b[0m \u001b[1;33m%\u001b[0m \u001b[0mdotpath\u001b[0m\u001b[1;33m)\u001b[0m\u001b[1;33m\u001b[0m\u001b[0m\n\u001b[0;32m    286\u001b[0m \u001b[1;33m\u001b[0m\u001b[0m\n\u001b[1;32m--> 287\u001b[1;33m         \u001b[0mdotgraph\u001b[0m \u001b[1;33m=\u001b[0m \u001b[0mpydot\u001b[0m\u001b[1;33m.\u001b[0m\u001b[0mgraph_from_dot_file\u001b[0m\u001b[1;33m(\u001b[0m\u001b[0mdot2\u001b[0m\u001b[1;33m)\u001b[0m\u001b[1;33m\u001b[0m\u001b[0m\n\u001b[0m\u001b[0;32m    288\u001b[0m         \u001b[0mnodes\u001b[0m \u001b[1;33m=\u001b[0m \u001b[1;33m(\u001b[0m\u001b[0mn\u001b[0m \u001b[1;32mfor\u001b[0m \u001b[0mn\u001b[0m \u001b[1;32min\u001b[0m \u001b[0mdotgraph\u001b[0m\u001b[1;33m.\u001b[0m\u001b[0mget_node_list\u001b[0m\u001b[1;33m(\u001b[0m\u001b[1;33m)\u001b[0m \u001b[1;32mif\u001b[0m \u001b[0mn\u001b[0m\u001b[1;33m.\u001b[0m\u001b[0mget_pos\u001b[0m\u001b[1;33m(\u001b[0m\u001b[1;33m)\u001b[0m\u001b[1;33m)\u001b[0m\u001b[1;33m\u001b[0m\u001b[0m\n\u001b[0;32m    289\u001b[0m         \u001b[0mself\u001b[0m\u001b[1;33m.\u001b[0m\u001b[0mnode_positions\u001b[0m \u001b[1;33m=\u001b[0m \u001b[1;33m[\u001b[0m\u001b[1;33m[\u001b[0m\u001b[0mint\u001b[0m\u001b[1;33m(\u001b[0m\u001b[0mi\u001b[0m\u001b[1;33m)\u001b[0m \u001b[1;32mfor\u001b[0m \u001b[0mi\u001b[0m \u001b[1;32min\u001b[0m \u001b[0mn\u001b[0m\u001b[1;33m.\u001b[0m\u001b[0mget_pos\u001b[0m\u001b[1;33m(\u001b[0m\u001b[1;33m)\u001b[0m\u001b[1;33m[\u001b[0m\u001b[1;36m1\u001b[0m\u001b[1;33m:\u001b[0m\u001b[1;33m-\u001b[0m\u001b[1;36m1\u001b[0m\u001b[1;33m]\u001b[0m\u001b[1;33m.\u001b[0m\u001b[0msplit\u001b[0m\u001b[1;33m(\u001b[0m\u001b[1;34m','\u001b[0m\u001b[1;33m)\u001b[0m\u001b[1;33m]\u001b[0m \u001b[1;32mfor\u001b[0m \u001b[0mn\u001b[0m \u001b[1;32min\u001b[0m \u001b[0mnodes\u001b[0m\u001b[1;33m]\u001b[0m\u001b[1;33m\u001b[0m\u001b[0m\n",
      "\u001b[1;32m/usr/local/lib/python2.7/dist-packages/pydot.pyc\u001b[0m in \u001b[0;36mgraph_from_dot_file\u001b[1;34m(path)\u001b[0m\n\u001b[0;32m    212\u001b[0m     \u001b[0mfd\u001b[0m\u001b[1;33m.\u001b[0m\u001b[0mclose\u001b[0m\u001b[1;33m(\u001b[0m\u001b[1;33m)\u001b[0m\u001b[1;33m\u001b[0m\u001b[0m\n\u001b[0;32m    213\u001b[0m \u001b[1;33m\u001b[0m\u001b[0m\n\u001b[1;32m--> 214\u001b[1;33m     \u001b[1;32mreturn\u001b[0m \u001b[0mgraph_from_dot_data\u001b[0m\u001b[1;33m(\u001b[0m\u001b[0mdata\u001b[0m\u001b[1;33m)\u001b[0m\u001b[1;33m\u001b[0m\u001b[0m\n\u001b[0m\u001b[0;32m    215\u001b[0m \u001b[1;33m\u001b[0m\u001b[0m\n\u001b[0;32m    216\u001b[0m \u001b[1;33m\u001b[0m\u001b[0m\n",
      "\u001b[1;32m/usr/local/lib/python2.7/dist-packages/pydot.pyc\u001b[0m in \u001b[0;36mgraph_from_dot_data\u001b[1;34m(data)\u001b[0m\n\u001b[0;32m    197\u001b[0m     \"\"\"\n\u001b[0;32m    198\u001b[0m \u001b[1;33m\u001b[0m\u001b[0m\n\u001b[1;32m--> 199\u001b[1;33m     \u001b[1;32mreturn\u001b[0m \u001b[0mdot_parser\u001b[0m\u001b[1;33m.\u001b[0m\u001b[0mparse_dot_data\u001b[0m\u001b[1;33m(\u001b[0m\u001b[0mdata\u001b[0m\u001b[1;33m)\u001b[0m\u001b[1;33m\u001b[0m\u001b[0m\n\u001b[0m\u001b[0;32m    200\u001b[0m \u001b[1;33m\u001b[0m\u001b[0m\n\u001b[0;32m    201\u001b[0m \u001b[1;33m\u001b[0m\u001b[0m\n",
      "\u001b[1;31mNameError\u001b[0m: global name 'dot_parser' is not defined"
     ]
    }
   ],
   "source": [
    "## we're using Pebl to execute the data analysis\n",
    "\n",
    "from pebl import data, result\n",
    "from pebl.learner import greedy\n",
    "\n",
    "dataset = data.fromfile('bayes-example.tsv')\n",
    "\n",
    "## data loaded in the correct format\n",
    "\n",
    "## start learning. this is \"greedy\", i.e. we need to limit how this is computed\n",
    "learner1 = greedy.GreedyLearner(dataset, max_iterations=5) \n",
    "##learner2 = greedy.GreedyLearner(dataset, max_time=5) # in seconds\n",
    "\n",
    "result1 = learner1.run()\n",
    "##result2 = learner2.run()\n",
    "\n",
    "##merged_result = result.merge(result1, result2)\n",
    "##merged_result.tohtml(\"bayesian-example\")\n",
    "\n",
    "print( result1 )\n",
    "\n",
    "print \"Done\"\n",
    "\n",
    "import shutil\n",
    "shutil.rmtree('bayesian-network-example')\n",
    "result1.tohtml('bayesian-network-example')"
   ]
  },
  {
   "cell_type": "code",
   "execution_count": null,
   "metadata": {
    "collapsed": false
   },
   "outputs": [],
   "source": []
  },
  {
   "cell_type": "code",
   "execution_count": null,
   "metadata": {
    "collapsed": true
   },
   "outputs": [],
   "source": []
  }
 ],
 "metadata": {
  "kernelspec": {
   "display_name": "Python 2",
   "language": "python",
   "name": "python2"
  },
  "language_info": {
   "codemirror_mode": {
    "name": "ipython",
    "version": 2
   },
   "file_extension": ".py",
   "mimetype": "text/x-python",
   "name": "python",
   "nbconvert_exporter": "python",
   "pygments_lexer": "ipython2",
   "version": "2.7.9"
  }
 },
 "nbformat": 4,
 "nbformat_minor": 0
}
