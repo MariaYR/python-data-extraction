{
 "cells": [
  {
   "cell_type": "code",
   "execution_count": 1,
   "metadata": {
    "collapsed": true
   },
   "outputs": [],
   "source": [
    "import json\n",
    "## helps us to work with json\n",
    "## More about it: https://docs.python.org/2/library/json.html"
   ]
  },
  {
   "cell_type": "code",
   "execution_count": 9,
   "metadata": {
    "collapsed": false
   },
   "outputs": [],
   "source": [
    "data = {'cats' : 'nice', 'kitten' : 'nice', 'cat' : ['Mirri', 'Piki'] }"
   ]
  },
  {
   "cell_type": "code",
   "execution_count": 10,
   "metadata": {
    "collapsed": false
   },
   "outputs": [
    {
     "name": "stdout",
     "output_type": "stream",
     "text": [
      "{\"cat\": [\"Mirri\", \"Piki\"], \"cats\": \"nice\", \"kitten\": \"nice\"}\n"
     ]
    }
   ],
   "source": [
    "json.dump( data , open('json_example.json', 'w' ) ) ## writedata to JSON file\n",
    "\n",
    "## just for as to look, let's print the file out\n",
    "print open('json_example.json').read()"
   ]
  },
  {
   "cell_type": "code",
   "execution_count": 11,
   "metadata": {
    "collapsed": false
   },
   "outputs": [
    {
     "name": "stdout",
     "output_type": "stream",
     "text": [
      "{u'kitten': u'nice', u'cats': u'nice', u'cat': [u'Mirri', u'Piki']}\n"
     ]
    }
   ],
   "source": [
    "data2 = json.load( open('json_example.json') )\n",
    "print data2"
   ]
  },
  {
   "cell_type": "code",
   "execution_count": null,
   "metadata": {
    "collapsed": true
   },
   "outputs": [],
   "source": []
  }
 ],
 "metadata": {
  "kernelspec": {
   "display_name": "Python 2",
   "language": "python",
   "name": "python2"
  },
  "language_info": {
   "codemirror_mode": {
    "name": "ipython",
    "version": 2
   },
   "file_extension": ".py",
   "mimetype": "text/x-python",
   "name": "python",
   "nbconvert_exporter": "python",
   "pygments_lexer": "ipython2",
   "version": "2.7.9"
  }
 },
 "nbformat": 4,
 "nbformat_minor": 0
}
