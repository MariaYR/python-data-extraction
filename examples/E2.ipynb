{
 "cells": [
  {
   "cell_type": "markdown",
   "metadata": {},
   "source": [
    "Write a script that counts the number of words \"cat\", \"dog\" and \"kitten\" on each line and print the number for each line.\n",
    "\n",
    "*Input:*\n",
    "\n",
    "`Cats are cool!\n",
    "Courses are boring.\n",
    "Kittens and dogs work together.`\n",
    "\n",
    "*Output:*\n",
    "\n",
    "`1,0,0\n",
    "0,0,0\n",
    "0,1,1`"
   ]
  },
  {
   "cell_type": "code",
   "execution_count": 2,
   "metadata": {
    "collapsed": false
   },
   "outputs": [
    {
     "name": "stdout",
     "output_type": "stream",
     "text": [
      "1,0,0\n",
      "0,0,0\n",
      "0,1,1\n"
     ]
    }
   ],
   "source": [
    "keywords = ['cat', 'dog', 'kitten']\n",
    "\n",
    "for line in open('cats.txt'):\n",
    "    \n",
    "    line2 = line.lower()\n",
    "    \n",
    "    out = [] ## per line output\n",
    "    \n",
    "    for keyword in keywords:\n",
    "        \n",
    "        out.append( line2.count(keyword) )\n",
    "        \n",
    "    \n",
    "    out = map( str, out ) ## transform all numbers in the list to string   \n",
    "    print ','.join( out )"
   ]
  },
  {
   "cell_type": "code",
   "execution_count": null,
   "metadata": {
    "collapsed": true
   },
   "outputs": [],
   "source": []
  }
 ],
 "metadata": {
  "kernelspec": {
   "display_name": "Python 2",
   "language": "python",
   "name": "python2"
  },
  "language_info": {
   "codemirror_mode": {
    "name": "ipython",
    "version": 2
   },
   "file_extension": ".py",
   "mimetype": "text/x-python",
   "name": "python",
   "nbconvert_exporter": "python",
   "pygments_lexer": "ipython2",
   "version": "2.7.10"
  }
 },
 "nbformat": 4,
 "nbformat_minor": 0
}
