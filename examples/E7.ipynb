{
 "cells": [
  {
   "cell_type": "markdown",
   "metadata": {},
   "source": [
    "What is the most common word in the title of the 1000 most recent stories in YLE?"
   ]
  },
  {
   "cell_type": "code",
   "execution_count": 13,
   "metadata": {
    "collapsed": true
   },
   "outputs": [],
   "source": [
    "import requests\n",
    "import json\n",
    "import nltk\n",
    "import itertools\n",
    "import collections"
   ]
  },
  {
   "cell_type": "code",
   "execution_count": 2,
   "metadata": {
    "collapsed": false
   },
   "outputs": [
    {
     "name": "stdout",
     "output_type": "stream",
     "text": [
      "Downloading 0\n",
      "Downloading 1\n",
      "Downloading 2\n",
      "Downloading 3\n",
      "Downloading 4\n",
      "Downloading 5\n",
      "Downloading 6\n",
      "Downloading 7\n",
      "Downloading 8\n",
      "Downloading 9\n"
     ]
    }
   ],
   "source": [
    "## first download data\n",
    "\n",
    "data = []\n",
    "\n",
    "for i in range( 0, 10): ## load some news\n",
    "    print \"Downloading\", i\n",
    "    r = requests.get('http://yle.fi/uutiset/resources/ajax/latest?amount=100&offset=' + str( 100 * i ) )\n",
    "    d = r.json()\n",
    "    data += d['articles']\n",
    "    \n",
    "json.dump( data , open('yle_download.json', 'w') )"
   ]
  },
  {
   "cell_type": "code",
   "execution_count": 18,
   "metadata": {
    "collapsed": false
   },
   "outputs": [
    {
     "name": "stdout",
     "output_type": "stream",
     "text": [
      "[(u'\\u2013', 439), (u':', 297), (u'ja', 146), (u\"''\", 124), (u'``', 123), (u',', 117), (u'ei', 95), (u'on', 90), (u'?', 61), (u'n', 30)]\n"
     ]
    }
   ],
   "source": [
    "data = json.load( open('yle_download.json') )\n",
    "\n",
    "data = map( lambda x: x['title'], data ) ## select all titles\n",
    "data = map( lambda x: nltk.word_tokenize(x) , data )\n",
    "\n",
    "data = itertools.chain( *data ) ## make the list of lists to a signle list\n",
    "data = list( data )\n",
    "\n",
    "data = collections.Counter( data )\n",
    "\n",
    "print data.most_common( 10 ) ## 10 yleisintä"
   ]
  },
  {
   "cell_type": "code",
   "execution_count": 23,
   "metadata": {
    "collapsed": false
   },
   "outputs": [
    {
     "name": "stdout",
     "output_type": "stream",
     "text": [
      "–\n"
     ]
    }
   ],
   "source": [
    "## less cheat\n",
    "\n",
    "data = json.load( open('yle_download.json') )\n",
    "words = []\n",
    "\n",
    "for d in data:\n",
    "    \n",
    "    d = nltk.word_tokenize( d['title'] )\n",
    "    \n",
    "    for word in d:\n",
    "        words.append( word )\n",
    "        \n",
    "## print out\n",
    "\n",
    "res = collections.defaultdict( int )\n",
    "\n",
    "for word in words:\n",
    "    res[word] += 1\n",
    "    \n",
    "m = max( res.values() )\n",
    "    \n",
    "for key, value in res.items():\n",
    "    \n",
    "    if value == m:\n",
    "        \n",
    "        print key"
   ]
  },
  {
   "cell_type": "code",
   "execution_count": null,
   "metadata": {
    "collapsed": true
   },
   "outputs": [],
   "source": []
  }
 ],
 "metadata": {
  "kernelspec": {
   "display_name": "Python 2",
   "language": "python",
   "name": "python2"
  },
  "language_info": {
   "codemirror_mode": {
    "name": "ipython",
    "version": 2
   },
   "file_extension": ".py",
   "mimetype": "text/x-python",
   "name": "python",
   "nbconvert_exporter": "python",
   "pygments_lexer": "ipython2",
   "version": "2.7.10"
  }
 },
 "nbformat": 4,
 "nbformat_minor": 0
}
