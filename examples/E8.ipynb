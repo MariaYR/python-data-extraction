{
 "cells": [
  {
   "cell_type": "markdown",
   "metadata": {},
   "source": [
    "Use the Article search API from New York Times ( http://developer.nytimes.com/docs/read/article_search_api_v2 ) to find (some, not all to save time) articles mentioning Finland and published between 1999 and 2009.\n",
    "\n",
    "* What are the most common words in the lead paragraph of the stories?\n",
    "* Remember to use lemmas when counting the words!"
   ]
  },
  {
   "cell_type": "code",
   "execution_count": 12,
   "metadata": {
    "collapsed": true
   },
   "outputs": [],
   "source": [
    "import requests\n",
    "import json\n",
    "\n",
    "import nltk\n",
    "import nltk.data\n",
    "\n",
    "import collections"
   ]
  },
  {
   "cell_type": "code",
   "execution_count": 8,
   "metadata": {
    "collapsed": false
   },
   "outputs": [],
   "source": [
    "## check how many articles we have\n",
    "url = 'http://api.nytimes.com/svc/search/v2/articlesearch.json'\n",
    "key = 'API_KEY_HERE' ## your NY Times API key\n",
    "\n",
    "params = {'q' : 'Finland', 'begin_date' : '19990101', 'end_data' : '20091231', 'api-key': key }\n",
    "\n",
    "data = requests.get( url , params = params )\n",
    "data = data.json()\n",
    "\n",
    "article_count = data['response']['meta']['hits']\n",
    "\n",
    "article_count = 50 ## for debugs!\n",
    "\n",
    "datas = []\n",
    "\n",
    "## download all articles using the pagination API\n",
    "for i in range( 1 , article_count / 10 + 1 ):\n",
    "    \n",
    "    params = {'q' : 'Finland', 'begin_date' : '19990101', 'end_data' : '20091231', 'api-key': key, 'page' : i }\n",
    "\n",
    "    data = requests.get( url , params = params )\n",
    "    data = data.json()\n",
    "    \n",
    "    data = data['response']['docs']\n",
    "\n",
    "    datas += data\n",
    "    \n",
    "## store result for reuse\n",
    "json.dump( datas , open('ny_times.json', 'w') )    "
   ]
  },
  {
   "cell_type": "code",
   "execution_count": 23,
   "metadata": {
    "collapsed": false
   },
   "outputs": [
    {
     "name": "stdout",
     "output_type": "stream",
     "text": [
      "[(u'the', 82), (u',', 65), (u'.', 60), (u'of', 43), (u'a', 42)]\n"
     ]
    }
   ],
   "source": [
    "data = json.load( open('ny_times.json') )\n",
    "\n",
    "stemma = nltk.stem.lancaster.LancasterStemmer()\n",
    "\n",
    "all_words = []\n",
    "\n",
    "for d in data:\n",
    "    \n",
    "    if d['lead_paragraph']: ## remove Nones\n",
    "        \n",
    "        words = nltk.word_tokenize( d['lead_paragraph'] )\n",
    "\n",
    "        for word in words:\n",
    "            all_words.append( stemma.stem( word ) )\n",
    "        \n",
    "        \n",
    "all_words = collections.Counter( all_words )\n",
    "\n",
    "print all_words.most_common( 5 )"
   ]
  },
  {
   "cell_type": "code",
   "execution_count": null,
   "metadata": {
    "collapsed": true
   },
   "outputs": [],
   "source": []
  }
 ],
 "metadata": {
  "kernelspec": {
   "display_name": "Python 2",
   "language": "python",
   "name": "python2"
  },
  "language_info": {
   "codemirror_mode": {
    "name": "ipython",
    "version": 2
   },
   "file_extension": ".py",
   "mimetype": "text/x-python",
   "name": "python",
   "nbconvert_exporter": "python",
   "pygments_lexer": "ipython2",
   "version": "2.7.10"
  }
 },
 "nbformat": 4,
 "nbformat_minor": 0
}
