{
 "cells": [
  {
   "cell_type": "markdown",
   "metadata": {},
   "source": [
    "Write a function that creates counts the number of given list of words (i.e., the list of words is a parameter) and returns a dictionary of the frequencies of those words in a text file."
   ]
  },
  {
   "cell_type": "code",
   "execution_count": null,
   "metadata": {
    "collapsed": true
   },
   "outputs": [],
   "source": [
    "def frequency( search , f ):\n",
    "    \n",
    "    text = f.read()\n",
    "    \n",
    "    frequency = {}\n",
    "    \n",
    "    for s in search:\n",
    "        \n",
    "        frequency[ s ] = text.count( s )\n",
    "        \n",
    "    return frequency\n",
    "\n",
    "frequency( ['cat', 'dog'] , open)\n",
    "        "
   ]
  }
 ],
 "metadata": {
  "kernelspec": {
   "display_name": "Python 2",
   "language": "python",
   "name": "python2"
  },
  "language_info": {
   "codemirror_mode": {
    "name": "ipython",
    "version": 2
   },
   "file_extension": ".py",
   "mimetype": "text/x-python",
   "name": "python",
   "nbconvert_exporter": "python",
   "pygments_lexer": "ipython2",
   "version": "2.7.10"
  }
 },
 "nbformat": 4,
 "nbformat_minor": 0
}
