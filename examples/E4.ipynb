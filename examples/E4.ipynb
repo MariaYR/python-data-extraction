{
 "cells": [
  {
   "cell_type": "markdown",
   "metadata": {},
   "source": [
    "Write a function that reads a text file and returns the content of that text file in stemmed or lemmatized format."
   ]
  },
  {
   "cell_type": "code",
   "execution_count": null,
   "metadata": {
    "collapsed": true
   },
   "outputs": [],
   "source": [
    "import nltk\n",
    "import nltk.data\n",
    "\n",
    "## lemma = nltk.stem.wordnet.WordNetLemmatizer() not using lemmer for this\n",
    "stemma = nltk.stem.lancaster.LancasterStemmer()\n",
    "\n",
    "function lemmas( f ):\n",
    "    \n",
    "    text = f.read()\n",
    "    \n",
    "    words = nltk.word_tokenize( text )\n",
    "    \n",
    "    out = []\n",
    "    \n",
    "    for word in words:\n",
    "        stemma.stem( word )\n",
    "        \n"
   ]
  }
 ],
 "metadata": {
  "kernelspec": {
   "display_name": "Python 2",
   "language": "python",
   "name": "python2"
  },
  "language_info": {
   "codemirror_mode": {
    "name": "ipython",
    "version": 2
   },
   "file_extension": ".py",
   "mimetype": "text/x-python",
   "name": "python",
   "nbconvert_exporter": "python",
   "pygments_lexer": "ipython2",
   "version": "2.7.10"
  }
 },
 "nbformat": 4,
 "nbformat_minor": 0
}
