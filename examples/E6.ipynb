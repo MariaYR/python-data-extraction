{
 "cells": [
  {
   "cell_type": "markdown",
   "metadata": {},
   "source": [
    "Write a function that reads a text file and returns the distribution of parts of speech tags in that text file."
   ]
  },
  {
   "cell_type": "code",
   "execution_count": 1,
   "metadata": {
    "collapsed": false
   },
   "outputs": [
    {
     "name": "stdout",
     "output_type": "stream",
     "text": [
      "[('Does', 'VBZ'), ('a', 'DT'), ('cat', 'NN'), ('have', 'VBP'), ('for', 'IN'), ('legs', 'NNS'), ('and', 'CC'), ('two', 'CD'), ('ears', 'NNS'), ('?', '.'), ('Yes', 'UH'), (',', ','), ('indeed', 'RB'), ('-', ':'), ('a', 'DT'), ('cat', 'NN'), ('has', 'VBZ'), ('legs', 'VBN'), ('and', 'CC'), ('ears', 'NNS'), ('.', '.')]\n"
     ]
    }
   ],
   "source": [
    "import nltk\n",
    "import nltk.data\n",
    "\n",
    "\n",
    "words = nltk.word_tokenize(\"Does a cat have for legs and two ears? Yes, indeed - a cat has legs and ears.\")\n",
    "tags = nltk.pos_tag( words )\n",
    "\n",
    "## select the second entry (format is (word, tag)) for each tags\n",
    "tags = map( lambda x: x[1], tags )\n"
   ]
  },
  {
   "cell_type": "code",
   "execution_count": null,
   "metadata": {
    "collapsed": true
   },
   "outputs": [],
   "source": []
  }
 ],
 "metadata": {
  "kernelspec": {
   "display_name": "Python 2",
   "language": "python",
   "name": "python2"
  },
  "language_info": {
   "codemirror_mode": {
    "name": "ipython",
    "version": 2
   },
   "file_extension": ".py",
   "mimetype": "text/x-python",
   "name": "python",
   "nbconvert_exporter": "python",
   "pygments_lexer": "ipython2",
   "version": "2.7.10"
  }
 },
 "nbformat": 4,
 "nbformat_minor": 0
}
