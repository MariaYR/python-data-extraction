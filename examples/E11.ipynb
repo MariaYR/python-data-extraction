{
 "cells": [
  {
   "cell_type": "code",
   "execution_count": null,
   "metadata": {
    "collapsed": true
   },
   "outputs": [],
   "source": []
  },
  {
   "cell_type": "code",
   "execution_count": 3,
   "metadata": {
    "collapsed": false
   },
   "outputs": [
    {
     "name": "stdout",
     "output_type": "stream",
     "text": [
      "http://www.hs.fi refers to hallitus\n",
      "http://www.yle.fi refers to hallitus\n",
      "http://www.mtv3.fi refers to hallitus\n",
      "http://www.uusisuomi.fi refers to hallitus\n"
     ]
    }
   ],
   "source": [
    "import requests\n",
    "\n",
    "sites = ['http://www.hs.fi', 'http://www.yle.fi', 'http://www.mtv3.fi', 'http://www.nelonen.fi', 'http://www.uusisuomi.fi']\n",
    "\n",
    "for site in sites:\n",
    "    \n",
    "    page = requests.get( site )\n",
    "    \n",
    "    if 'hallitus' in page.text.lower():\n",
    "        print site, 'refers to hallitus'"
   ]
  },
  {
   "cell_type": "code",
   "execution_count": null,
   "metadata": {
    "collapsed": true
   },
   "outputs": [],
   "source": []
  }
 ],
 "metadata": {
  "kernelspec": {
   "display_name": "Python 2",
   "language": "python",
   "name": "python2"
  },
  "language_info": {
   "codemirror_mode": {
    "name": "ipython",
    "version": 2
   },
   "file_extension": ".py",
   "mimetype": "text/x-python",
   "name": "python",
   "nbconvert_exporter": "python",
   "pygments_lexer": "ipython2",
   "version": "2.7.10"
  }
 },
 "nbformat": 4,
 "nbformat_minor": 0
}
