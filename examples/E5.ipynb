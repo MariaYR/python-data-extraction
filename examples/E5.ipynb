{
 "cells": [
  {
   "cell_type": "markdown",
   "metadata": {},
   "source": [
    "Write a function that reads several text (given as parameters in a list) files and returns the content of those in stemmed or lemmatized format as list: `[‘content of first file’, ‘content of second file’, ...]`"
   ]
  },
  {
   "cell_type": "code",
   "execution_count": null,
   "metadata": {
    "collapsed": true
   },
   "outputs": [],
   "source": [
    "## this is taken directly from E4!\n",
    "\n",
    "import nltk\n",
    "import nltk.data\n",
    "\n",
    "## lemma = nltk.stem.wordnet.WordNetLemmatizer() not using lemmer for this\n",
    "stemma = nltk.stem.lancaster.LancasterStemmer()\n",
    "\n",
    "def lemmas( f ):\n",
    "    \n",
    "    text = f.read()\n",
    "    \n",
    "    words = nltk.word_tokenize( text )\n",
    "    \n",
    "    out = []\n",
    "    \n",
    "    for word in words:\n",
    "        out.append( stemma.stem( word ) )\n",
    "        \n",
    "    return out"
   ]
  },
  {
   "cell_type": "code",
   "execution_count": null,
   "metadata": {
    "collapsed": true
   },
   "outputs": [],
   "source": [
    "def lemma_files( file_list ):\n",
    "    \n",
    "    out = []\n",
    "    \n",
    "    for f in file_list:\n",
    "        f = open( f )\n",
    "        out.append( lemma( f ) )\n",
    "        \n",
    "    return out\n",
    "\n",
    "    "
   ]
  }
 ],
 "metadata": {
  "kernelspec": {
   "display_name": "Python 2",
   "language": "python",
   "name": "python2"
  },
  "language_info": {
   "codemirror_mode": {
    "name": "ipython",
    "version": 2
   },
   "file_extension": ".py",
   "mimetype": "text/x-python",
   "name": "python",
   "nbconvert_exporter": "python",
   "pygments_lexer": "ipython2",
   "version": "2.7.10"
  }
 },
 "nbformat": 4,
 "nbformat_minor": 0
}
