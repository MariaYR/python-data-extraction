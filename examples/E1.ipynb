{
 "cells": [
  {
   "cell_type": "markdown",
   "metadata": {},
   "source": [
    "E1: Write a script that selects from a text file all lines that include the word \"cat\" and stores those into a list. \n",
    "\n",
    "*Input:*\n",
    "\n",
    "`Cats are cool!\n",
    "Courses are boring.\n",
    "Kittens and dogs work together.`\n",
    "\n",
    "*Output:*\n",
    "\n",
    "`['Cats are cool!']`"
   ]
  },
  {
   "cell_type": "code",
   "execution_count": 2,
   "metadata": {
    "collapsed": false
   },
   "outputs": [
    {
     "name": "stdout",
     "output_type": "stream",
     "text": [
      "Kittens and dogs work together.\n",
      "\n"
     ]
    }
   ],
   "source": [
    "collector = []\n",
    "\n",
    "for line in open('cats.txt'):\n",
    "    \n",
    "    line2 = line.lower()\n",
    "    \n",
    "    if 'cat' in line2:\n",
    "        \n",
    "        collector.append( line )\n",
    "        \n",
    "print line"
   ]
  },
  {
   "cell_type": "code",
   "execution_count": null,
   "metadata": {
    "collapsed": true
   },
   "outputs": [],
   "source": []
  }
 ],
 "metadata": {
  "kernelspec": {
   "display_name": "Python 2",
   "language": "python",
   "name": "python2"
  },
  "language_info": {
   "codemirror_mode": {
    "name": "ipython",
    "version": 2
   },
   "file_extension": ".py",
   "mimetype": "text/x-python",
   "name": "python",
   "nbconvert_exporter": "python",
   "pygments_lexer": "ipython2",
   "version": "2.7.10"
  }
 },
 "nbformat": 4,
 "nbformat_minor": 0
}
