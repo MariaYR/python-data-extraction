{
 "cells": [
  {
   "cell_type": "code",
   "execution_count": 7,
   "metadata": {
    "collapsed": true
   },
   "outputs": [],
   "source": [
    "import tweepy\n",
    "import json\n",
    "\n",
    "auth = tweepy.OAuthHandler(consumer_key, consumer_secret)\n",
    "auth.set_access_token(access_token, access_token_secret)\n",
    "\n",
    "api = tweepy.API(auth)"
   ]
  },
  {
   "cell_type": "code",
   "execution_count": 8,
   "metadata": {
    "collapsed": false
   },
   "outputs": [],
   "source": [
    "user = 'alexstubb'\n",
    "\n",
    "tweets = api.user_timeline( user, count = 200 )\n",
    "\n",
    "for i in range(0,15):\n",
    "    \n",
    "    tweets += api.user_timeline( user, count = 200, maxid = tweets[-1].id - 1 )\n",
    "\n",
    "json.dump( map( lambda x: x._json , tweets ), open( 'e10.json', 'w' ) )\n"
   ]
  },
  {
   "cell_type": "code",
   "execution_count": 18,
   "metadata": {
    "collapsed": false
   },
   "outputs": [
    {
     "name": "stdout",
     "output_type": "stream",
     "text": [
      "Counter({u'vm.fi': 208, u'www.alexstubb.com': 112, u'twitter.com': 96, u'www.verkkouutiset.fi': 64, u'www.hs.fi': 48, u'wef.ch': 48, u'www.kokoomus.fi': 48, u'www.talouselama.fi': 32, u'live.worldbank.org': 32, u'facebook.com': 32, u'yle.fi': 32, u'www.gmfus.org': 32, u'www.tem.fi': 32, u'nwsr.eu': 32, u'www.lemonde.fr': 32, u'www.signmark.biz': 16, u'eurocrowd.org': 16, u'youtu.be': 16, u'news.sky.com': 16, u'nokia.ly': 16, u'www.runnersworld.com': 16, u'app.ft.com': 16, u'www.politico.eu': 16, u'www.cnbc.com': 16, u'www.euractiv.com': 16, u'bit.ly': 16, u'cnb.cx': 16, u'www.ft.com': 16, u'www.lapinkansa.fi': 16, u'fb.me': 16, u'www.di.se': 16, u'www.y-lehti.fi': 16, u'www.aamulehti.fi': 16, u'ow.ly': 16, u'sannigrahnlaasonen.fi': 16, u'www.facebook.com': 16, u'www.kainuunsanomat.fi': 16, u'europa.eu': 16, u'www.akava.fi': 16, u'dreambroker.com': 16, u'dlvr.it': 16, u'www.bloomberg.com': 16, u'arcticstartup.com': 16, u'www.formin.fi': 16})\n"
     ]
    }
   ],
   "source": [
    "tweets = json.load( open('e11.json') )\n",
    "\n",
    "urls = []\n",
    "\n",
    "for tweet in tweets:\n",
    "    \n",
    "    for url in tweet['entities']['urls']:\n",
    "        \n",
    "        urls.append( url['expanded_url'] )\n",
    "\n",
    "urls2 = []\n",
    "\n",
    "for url in urls:\n",
    "    \n",
    "    url = url.replace('http://', '')\n",
    "    url = url.replace('https://', '')\n",
    "    \n",
    "    url = url.split('/')\n",
    "    \n",
    "    urls2.append( url[0] )\n",
    "    \n",
    "import collections\n",
    "\n",
    "print collections.Counter( urls2 )"
   ]
  },
  {
   "cell_type": "code",
   "execution_count": null,
   "metadata": {
    "collapsed": true
   },
   "outputs": [],
   "source": []
  }
 ],
 "metadata": {
  "kernelspec": {
   "display_name": "Python 2",
   "language": "python",
   "name": "python2"
  },
  "language_info": {
   "codemirror_mode": {
    "name": "ipython",
    "version": 2
   },
   "file_extension": ".py",
   "mimetype": "text/x-python",
   "name": "python",
   "nbconvert_exporter": "python",
   "pygments_lexer": "ipython2",
   "version": "2.7.9"
  }
 },
 "nbformat": 4,
 "nbformat_minor": 0
}
