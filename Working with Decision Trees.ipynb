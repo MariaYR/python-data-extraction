{
 "cells": [
  {
   "cell_type": "markdown",
   "metadata": {},
   "source": [
    "Let's use a *toy example* from the Eurobarometer to study the left-right position of citizen based on various background items.\n"
   ]
  },
  {
   "cell_type": "code",
   "execution_count": 2,
   "metadata": {
    "collapsed": false
   },
   "outputs": [
    {
     "name": "stdout",
     "output_type": "stream",
     "text": [
      "Have 7606 labels and 7606 features.\n"
     ]
    }
   ],
   "source": [
    "import csv\n",
    "\n",
    "data = csv.DictReader( open('eurobaro.csv') )\n",
    "\n",
    "## we need something called labels (what we try to explain) and\n",
    "## something we call the features (with what we try to explain)\n",
    "\n",
    "labels = []\n",
    "features = []\n",
    "\n",
    "for row in data:\n",
    "    \n",
    "    leftright = row['d1'] ## this is TEXT\n",
    "    leftright = leftright.replace('Box', '').replace('- left', '').replace('- right', '').replace('DK', '-1').replace('Refusal', '-1')\n",
    "    leftright = leftright.strip()\n",
    "    leftright = int( leftright )\n",
    "    \n",
    "    if 1 <= leftright <= 3 or 8 <= leftright <= 10: ## we're interested on the two extreams only\n",
    "        \n",
    "        labels.append( leftright > 5 )\n",
    "        \n",
    "        f = []\n",
    "        \n",
    "        sex = int( row['d10'] == 'Woman' ) ## man/woman\n",
    "        age = int( row['d11'] )\n",
    "        \n",
    "        rural = 0\n",
    "        town = 0\n",
    "        city = 0\n",
    "        \n",
    "        if row['d25'] == 'Rural area or village':\n",
    "            rural = 1\n",
    "            \n",
    "        if row['d25'] == 'Small or middle sized town':\n",
    "            town = 1\n",
    "            \n",
    "        if row['d25'] == 'Large town':\n",
    "            city = 1\n",
    "            \n",
    "        bill_paying = 0\n",
    "        \n",
    "        if row['d60'] == 'Most of the time':\n",
    "            bill_paying = 1\n",
    "            \n",
    "        _temp = {\n",
    "            'Very satisfied' : 1,\n",
    "            'Fairly satisfied' : 2,\n",
    "            'Not very satisfied' : 3,\n",
    "            'Not at all satisfied' : 4,\n",
    "            'DK' : 2.5 ## mean!\n",
    "        }\n",
    "        \n",
    "        live_satisfaction = _temp[ row['d70'] ]\n",
    "        \n",
    "        features.append( [ sex, age, rural, city, town, bill_paying, live_satisfaction ] )\n",
    "        \n",
    "print 'Have', len( labels ), 'labels and', len( features ), 'features.'    "
   ]
  },
  {
   "cell_type": "code",
   "execution_count": 3,
   "metadata": {
    "collapsed": false
   },
   "outputs": [
    {
     "name": "stdout",
     "output_type": "stream",
     "text": [
      "0.702471732842\n"
     ]
    }
   ],
   "source": [
    "import numpy\n",
    "from sklearn import tree, cross_validation\n",
    "\n",
    "\n",
    "model = tree.DecisionTreeClassifier() \n",
    "\n",
    "features = numpy.array( features )\n",
    "labels = numpy.array( labels )\n",
    "\n",
    "model.fit( features, labels )\n",
    "\n",
    "print model.score( features, labels )"
   ]
  },
  {
   "cell_type": "code",
   "execution_count": 7,
   "metadata": {
    "collapsed": false
   },
   "outputs": [
    {
     "ename": "NameError",
     "evalue": "name 'graph_from_dot_data' is not defined",
     "output_type": "error",
     "traceback": [
      "\u001b[0;31m---------------------------------------------------------------------------\u001b[0m",
      "\u001b[0;31mNameError\u001b[0m                                 Traceback (most recent call last)",
      "\u001b[0;32m<ipython-input-7-2756bade8291>\u001b[0m in \u001b[0;36m<module>\u001b[0;34m()\u001b[0m\n\u001b[1;32m     10\u001b[0m )\n\u001b[1;32m     11\u001b[0m \u001b[0;34m\u001b[0m\u001b[0m\n\u001b[0;32m---> 12\u001b[0;31m \u001b[0mgraph_from_dot_data\u001b[0m\u001b[0;34m(\u001b[0m\u001b[0mout\u001b[0m\u001b[0;34m.\u001b[0m\u001b[0mgetvalue\u001b[0m\u001b[0;34m(\u001b[0m\u001b[0;34m)\u001b[0m\u001b[0;34m)\u001b[0m\u001b[0;34m.\u001b[0m\u001b[0mwrite_pdf\u001b[0m\u001b[0;34m(\u001b[0m\u001b[0;34m\"somefile.pdf\"\u001b[0m\u001b[0;34m)\u001b[0m\u001b[0;34m\u001b[0m\u001b[0m\n\u001b[0m",
      "\u001b[0;31mNameError\u001b[0m: name 'graph_from_dot_data' is not defined"
     ]
    }
   ],
   "source": [
    "from StringIO import StringIO\n",
    "\n",
    "dot_data = StringIO()\n",
    "\n",
    "tree.export_graphviz( model,\n",
    "    out_file=dot_data   #,  \n",
    "    #feature_names=['Sex', 'Age', 'Rural', 'City', 'Town', 'Pays bills', 'Life satisfaction'],  \n",
    "    #class_names=['Left', 'Right'],  \n",
    "    #filled=True, rounded=True, special_characters=True\n",
    ")\n",
    "\n",
    "graph_from_dot_data(out.getvalue()).write_pdf(\"somefile.pdf\")"
   ]
  },
  {
   "cell_type": "code",
   "execution_count": null,
   "metadata": {
    "collapsed": true
   },
   "outputs": [],
   "source": []
  }
 ],
 "metadata": {
  "kernelspec": {
   "display_name": "Python 2",
   "language": "python",
   "name": "python2"
  },
  "language_info": {
   "codemirror_mode": {
    "name": "ipython",
    "version": 2
   },
   "file_extension": ".py",
   "mimetype": "text/x-python",
   "name": "python",
   "nbconvert_exporter": "python",
   "pygments_lexer": "ipython2",
   "version": "2.7.10"
  }
 },
 "nbformat": 4,
 "nbformat_minor": 0
}
